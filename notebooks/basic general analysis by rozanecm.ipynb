{
 "cells": [
  {
   "cell_type": "code",
   "execution_count": 1,
   "metadata": {},
   "outputs": [],
   "source": [
    "import pandas as pd\n",
    "import numpy as np\n",
    "import matplotlib.pyplot as plt"
   ]
  },
  {
   "cell_type": "code",
   "execution_count": 2,
   "metadata": {},
   "outputs": [],
   "source": [
    "# This will allow you to see all column names & rows when you are doing .head(). None of the column name will be truncated.\n",
    "# source: https://stackoverflow.com/questions/49188960/how-to-show-all-of-columns-name-on-pandas-dataframe\n",
    "\n",
    "pd.set_option('display.max_columns', None)\n",
    "pd.set_option('display.max_colwidth', 140)"
   ]
  },
  {
   "cell_type": "code",
   "execution_count": 3,
   "metadata": {},
   "outputs": [],
   "source": [
    "df = pd.read_csv('../data/train.csv', dtype={'tipodepropiedad':'category', 'ciudad':'category', 'provincia':'category', 'id':'int32', 'antiguedad':'float16', 'habitaciones':'float16', 'garages':'float16', 'banos':'float16', 'metroscubiertos':'float16', 'metrostotales':'float16', 'idzona':'float16', 'lat':'float16', 'lng':'float16', 'gimnasio':'bool', 'usosmultiples':'bool', 'piscina':'bool', 'escuelascercanas':'bool', 'centroscomercialescercanos':'bool'}, parse_dates=['fecha'])"
   ]
  },
  {
   "cell_type": "markdown",
   "metadata": {},
   "source": [
    "# Columnas de texto\n",
    "## Titulo"
   ]
  },
  {
   "cell_type": "code",
   "execution_count": 4,
   "metadata": {},
   "outputs": [
    {
     "data": {
      "text/plain": [
       "casa en venta                                                                      468\n",
       "departamento en venta                                                              289\n",
       "casa en venta en chihuahua                                                         268\n",
       "casa en venta en querétaro                                                         238\n",
       "departamento en venta en benito juárez                                             221\n",
       "departamento en venta en miguel hidalgo                                            177\n",
       "casa en venta en mérida                                                            167\n",
       "casa en venta                                                                      132\n",
       "casa en venta en torreón                                                           119\n",
       "casa en venta en mérida, yucatán                                                   115\n",
       "casa en venta en monterrey                                                         115\n",
       "casa en venta en puebla                                                            112\n",
       "casa en venta en juárez                                                            111\n",
       "casa en venta en tepic                                                             107\n",
       "casa en venta en juriquilla                                                        106\n",
       "casa en venta en san andrés cholula                                                105\n",
       "casa en venta en tijuana                                                           104\n",
       "venta de casa en aguascalientes                                                     98\n",
       "terreno en venta                                                                    97\n",
       "departamento                                                                        89\n",
       "casa en condominio en venta en querétaro                                            86\n",
       "departamento en venta en cuauhtémoc                                                 84\n",
       "venta de departamento en benito juárez                                              84\n",
       "venta de casa en naucalpan                                                          84\n",
       "casa en venta en corregidora                                                        83\n",
       "casa en venta, monterrey, nuevo león                                                80\n",
       "departamento en venta en interlomas                                                 80\n",
       "casa en venta en zapopan                                                            80\n",
       "venta de casa en cuautitlan izcalli                                                 79\n",
       "venta de casa en tlalnepantla                                                       78\n",
       "                                                                                  ... \n",
       "se vende bonita casa en la colonia industrial gustavo a. madero no es remate         1\n",
       "casa 3 rec., villa fontana 1a secc.                                                  1\n",
       "hermoso condominio tlalpan                                                           1\n",
       "oportunidad casa en venta                                                            1\n",
       "¡excelente oportunidad! zempoala, narvarte, benito juarez, df                        1\n",
       "bonita casa en los agaves                                                            1\n",
       "terreno plano carretera nacional                                                     1\n",
       "casa acueducto de tarragona no. 49, vista del valle, paseos del bosque               1\n",
       "preciosa y amplia casa de dos niveles en excelente sector de la ciudad.              1\n",
       "departamento en avenida universidad                                                  1\n",
       "casa con excelente ubicacion uso de suelo h05-constructores                          1\n",
       "casa clave  en venta en montecristo, merida , yucatan                                1\n",
       " remate bancario excelente  inversion bosque alto 245 lomas verdes nauc. edomx       1\n",
       "venta casa fraccionamiento felicidad cholula                                         1\n",
       "casa en tequisquipan                                                                 1\n",
       "64138 real de miramar                                                                1\n",
       "excelente departamento en p.b.                                                       1\n",
       "casa de una planta en ave. juan escutia                                              1\n",
       "venta de casa en cuautla, tres recamaras...clave 1466                                1\n",
       "el mirador, excelentes acabados, gánela!!!                                           1\n",
       "bodega-galpón en venta en santa ines                                                 1\n",
       "casa res. en venta col. rinconada colonial                                           1\n",
       "casa en colonia del sol a media cuadra del bordo de xochiaca                         1\n",
       "bosque real excelente departamento vista al campo de golf                            1\n",
       "casa en la toscana.                                                                  1\n",
       "venta de casa en punta juriquilla                                                    1\n",
       "casa en centrika crisoles                                                            1\n",
       "excelente ubicación. un solo nivel. acogedora.                                       1\n",
       "preciosa casa en la herradura                                                        1\n",
       "casa en venta en san pedrito peñuelas, privaca, alberca, casa club, 3 recamaras      1\n",
       "Name: titulo, Length: 186191, dtype: int64"
      ]
     },
     "execution_count": 4,
     "metadata": {},
     "output_type": "execute_result"
    }
   ],
   "source": [
    "df['titulo'].value_counts()"
   ]
  },
  {
   "cell_type": "code",
   "execution_count": 5,
   "metadata": {},
   "outputs": [
    {
     "data": {
      "text/plain": [
       "0.4531625"
      ]
     },
     "execution_count": 5,
     "metadata": {},
     "output_type": "execute_result"
    }
   ],
   "source": [
    "df.loc[df['titulo'].fillna('vacio').apply(lambda x: 'venta' in x)].shape[0]/df.shape[0]"
   ]
  },
  {
   "cell_type": "markdown",
   "metadata": {},
   "source": [
    "El 45% de las propiedades incluyen en su titulo la información de que se trata de una venta."
   ]
  },
  {
   "cell_type": "code",
   "execution_count": 6,
   "metadata": {},
   "outputs": [
    {
     "name": "stdout",
     "output_type": "stream",
     "text": [
      "0.008379166666666667\n",
      "2011\n"
     ]
    }
   ],
   "source": [
    "print(df.loc[df['titulo'].fillna('vacio').apply(lambda x: 'renta' in x or 'alquiler' in x)].shape[0]/df.shape[0])\n",
    "print(df.loc[df['titulo'].fillna('vacio').apply(lambda x: 'renta' in x or 'alquiler' in x)].shape[0])"
   ]
  },
  {
   "cell_type": "markdown",
   "metadata": {},
   "source": [
    "El 0.8% habla de renta o alquiler, lo que equivale a 2011 titulos."
   ]
  },
  {
   "cell_type": "code",
   "execution_count": 7,
   "metadata": {},
   "outputs": [
    {
     "name": "stdout",
     "output_type": "stream",
     "text": [
      "0.005804166666666667\n",
      "1393\n"
     ]
    }
   ],
   "source": [
    "print(df.loc[df['titulo'].fillna('vacio').apply(lambda x: 'venta' in x and 'renta' in x)].shape[0]/df.shape[0])\n",
    "\n",
    "print(df.loc[df['titulo'].fillna('vacio').apply(lambda x: 'venta' in x and 'renta' in x)][['titulo']].shape[0])"
   ]
  },
  {
   "cell_type": "code",
   "execution_count": 8,
   "metadata": {},
   "outputs": [
    {
     "name": "stdout",
     "output_type": "stream",
     "text": [
      "0.0\n",
      "0\n"
     ]
    }
   ],
   "source": [
    "print(df.loc[df['titulo'].fillna('vacio').apply(lambda x: 'venta' in x and 'alquiler' in x)].shape[0]/df.shape[0])\n",
    "\n",
    "print(df.loc[df['titulo'].fillna('vacio').apply(lambda x: 'venta' in x and 'alquiler' in x)][['titulo']].shape[0])"
   ]
  },
  {
   "cell_type": "markdown",
   "metadata": {},
   "source": [
    "El 0.5% (1393 registros) habla de venta/alquiler de propiedades."
   ]
  },
  {
   "cell_type": "markdown",
   "metadata": {},
   "source": [
    "Comparemos con el tipo de propiedad. Se podra sacar alguna info extra del titulo que no este ya en tipo de propiedad?"
   ]
  },
  {
   "cell_type": "code",
   "execution_count": 9,
   "metadata": {},
   "outputs": [
    {
     "data": {
      "text/plain": [
       "['Apartamento',\n",
       " 'Casa en condominio',\n",
       " 'Casa',\n",
       " 'Terreno',\n",
       " 'Terreno comercial',\n",
       " 'Local Comercial',\n",
       " 'Quinta Vacacional',\n",
       " 'Oficina comercial',\n",
       " 'Edificio',\n",
       " 'Casa uso de suelo',\n",
       " 'Local en centro comercial',\n",
       " 'Bodega comercial',\n",
       " 'Otros',\n",
       " 'Villa',\n",
       " 'Duplex',\n",
       " 'Inmuebles productivos urbanos',\n",
       " 'Departamento Compartido',\n",
       " 'Nave industrial',\n",
       " 'Rancho',\n",
       " 'Terreno industrial',\n",
       " nan,\n",
       " 'Huerta',\n",
       " 'Lote',\n",
       " 'Hospedaje',\n",
       " 'Garage']"
      ]
     },
     "execution_count": 9,
     "metadata": {},
     "output_type": "execute_result"
    }
   ],
   "source": [
    "list(df['tipodepropiedad'].unique())"
   ]
  },
  {
   "cell_type": "code",
   "execution_count": 10,
   "metadata": {},
   "outputs": [
    {
     "data": {
      "text/plain": [
       "Casa                             141717\n",
       "Apartamento                       57341\n",
       "Casa en condominio                19297\n",
       "Terreno                            9945\n",
       "Local Comercial                    3055\n",
       "Oficina comercial                  1741\n",
       "Bodega comercial                   1406\n",
       "Edificio                           1396\n",
       "Terreno comercial                  1326\n",
       "Casa uso de suelo                   708\n",
       "Quinta Vacacional                   395\n",
       "Duplex                              343\n",
       "Villa                               340\n",
       "Inmuebles productivos urbanos       200\n",
       "Rancho                              170\n",
       "Local en centro comercial           165\n",
       "Departamento Compartido             141\n",
       "Otros                               134\n",
       "Nave industrial                      76\n",
       "Terreno industrial                   31\n",
       "Huerta                               20\n",
       "Lote                                  5\n",
       "Hospedaje                             1\n",
       "Garage                                1\n",
       "Name: tipodepropiedad, dtype: int64"
      ]
     },
     "execution_count": 10,
     "metadata": {},
     "output_type": "execute_result"
    }
   ],
   "source": [
    "df['tipodepropiedad'].value_counts()"
   ]
  },
  {
   "cell_type": "code",
   "execution_count": 11,
   "metadata": {},
   "outputs": [
    {
     "name": "stdout",
     "output_type": "stream",
     "text": [
      "Cantidad de nulos\n",
      "46\n",
      "0.02  %\n"
     ]
    }
   ],
   "source": [
    "print('Cantidad de nulos')\n",
    "print(df['tipodepropiedad'].isna().sum())\n",
    "print(round(df['tipodepropiedad'].isna().sum()/df.shape[0] * 100, 2), \" %\")"
   ]
  },
  {
   "cell_type": "markdown",
   "metadata": {},
   "source": [
    "## Descripcion"
   ]
  },
  {
   "cell_type": "code",
   "execution_count": 12,
   "metadata": {},
   "outputs": [
    {
     "name": "stdout",
     "output_type": "stream",
     "text": [
      "232187\n",
      "0.9741916666666667\n",
      "6194\n"
     ]
    }
   ],
   "source": [
    "print(df['descripcion'].nunique())\n",
    "print((df['descripcion'].nunique() + df['descripcion'].isna().sum())/df.shape[0])\n",
    "print(df.shape[0] - (df['descripcion'].nunique() + df['descripcion'].isna().sum()))"
   ]
  },
  {
   "cell_type": "code",
   "execution_count": 13,
   "metadata": {},
   "outputs": [
    {
     "data": {
      "text/html": [
       "<div>\n",
       "<style scoped>\n",
       "    .dataframe tbody tr th:only-of-type {\n",
       "        vertical-align: middle;\n",
       "    }\n",
       "\n",
       "    .dataframe tbody tr th {\n",
       "        vertical-align: top;\n",
       "    }\n",
       "\n",
       "    .dataframe thead th {\n",
       "        text-align: right;\n",
       "    }\n",
       "</style>\n",
       "<table border=\"1\" class=\"dataframe\">\n",
       "  <thead>\n",
       "    <tr style=\"text-align: right;\">\n",
       "      <th></th>\n",
       "      <th>descripcion</th>\n",
       "    </tr>\n",
       "  </thead>\n",
       "  <tbody>\n",
       "    <tr>\n",
       "      <th>0</th>\n",
       "      <td>depto. interior de 80.15m2, consta de sala comedor cocina equipada, área de lavado, baño completo, recamara principal con closet y baño ...</td>\n",
       "    </tr>\n",
       "    <tr>\n",
       "      <th>1</th>\n",
       "      <td>&lt;p&gt;entre sonora y guerrero, atr&amp;aacute;s del hospital &amp;aacute;ngeles del pedregal, en excelente estado de conservaci&amp;oacute;n, construid...</td>\n",
       "    </tr>\n",
       "    <tr>\n",
       "      <th>2</th>\n",
       "      <td>descripcion \\nla mejor ubicacion residencial en el oriente de la ciudad urbi versalles, te invito a compartir una nueva forma de vida en...</td>\n",
       "    </tr>\n",
       "    <tr>\n",
       "      <th>3</th>\n",
       "      <td>casa en privada con caseta de vigilancia casas de dos y tres recamaras, a dies minutos del centro de toluca a un costado del valle de za...</td>\n",
       "    </tr>\n",
       "    <tr>\n",
       "      <th>4</th>\n",
       "      <td>bonito departamento en excelentes condiciones muy buena ubicacion listo para habitar llamenos !!!!!  y</td>\n",
       "    </tr>\n",
       "    <tr>\n",
       "      <th>5</th>\n",
       "      <td>amplio departamento, estancia de sala y comedor con pared de granito de mármol, dos recamaras con closet, cocina integral, un baño, piso...</td>\n",
       "    </tr>\n",
       "    <tr>\n",
       "      <th>6</th>\n",
       "      <td>ubicada en esquina, pertenece san lorenzo agencia santiago etla.\\ncuenta con:\\ntres recamaras\\n2 baños completos\\nsala\\ncomedor- cocina\\...</td>\n",
       "    </tr>\n",
       "    <tr>\n",
       "      <th>7</th>\n",
       "      <td>casa emilia en venta playa del carmenfraccionamiento selvamar, con bicisendas, canchas de tenis con cesped, cenote, solarium con jacuzzi...</td>\n",
       "    </tr>\n",
       "    <tr>\n",
       "      <th>8</th>\n",
       "      <td>&lt;p&gt;pre-venta de preciosos departamento ecologicos &amp;nbsp;se ejerce con subsidio de 62,000; sala, comedor, cocina con &amp;nbsp;tarja &amp;nbsp;y ...</td>\n",
       "    </tr>\n",
       "    <tr>\n",
       "      <th>9</th>\n",
       "      <td>terreno de 5.500m2 bardeado, uso de suelo h-200-a, plano de forma irregular colinda al norte con circuito exterior mexiquense con 122m2,...</td>\n",
       "    </tr>\n",
       "    <tr>\n",
       "      <th>10</th>\n",
       "      <td>&lt;p&gt;mi 2&amp;deg; credito&lt;br /&gt;para todos aquellos trabajadores que ya tuvieron su primer credito por el infonavit y terminaron de pagarlo.&lt;b...</td>\n",
       "    </tr>\n",
       "    <tr>\n",
       "      <th>11</th>\n",
       "      <td>departamento nuevo ,256 m2 de construccion,un departamento por piso,acabados de lujo,elevador directo a tu departamento,elevador de serv...</td>\n",
       "    </tr>\n",
       "    <tr>\n",
       "      <th>12</th>\n",
       "      <td>&lt;p&gt;&lt;strong&gt;casa &lt;/strong&gt;en venta en fraccionamiento con campo de golf &lt;strong&gt;zibat&amp;aacute;&lt;/strong&gt;, 141.4 m de terreno, 170 m de cons...</td>\n",
       "    </tr>\n",
       "    <tr>\n",
       "      <th>13</th>\n",
       "      <td>flamante casa habitación en condominio horizontal, desarrollada en 3 niveles. planta baja: estancia, comedor, cocina con desayunador, sa...</td>\n",
       "    </tr>\n",
       "    <tr>\n",
       "      <th>14</th>\n",
       "      <td>pre venta de residencia en la toscana con excelente distribución, cuenta con vestidor y baño todas las recamaras.</td>\n",
       "    </tr>\n",
       "    <tr>\n",
       "      <th>15</th>\n",
       "      <td>&lt;p&gt;casa en dos niveles, 3 recámaras la principal con baño, sala, comedor con pisos laminados, cocina equipada con alacena, cuarto de ser...</td>\n",
       "    </tr>\n",
       "    <tr>\n",
       "      <th>16</th>\n",
       "      <td>&lt;p&gt;clave: vcln2450 fecha de actualizaci&amp;oacute;n 12/feb/2013.&amp;nbsp;hermosa casa totalmente nueva con los mejores acabados y excelente ca...</td>\n",
       "    </tr>\n",
       "    <tr>\n",
       "      <th>17</th>\n",
       "      <td>magnifico departamento con excelente distribución, ventanales de piso a techo, balcones y mucha luz natural, ubicado en una de las calle...</td>\n",
       "    </tr>\n",
       "    <tr>\n",
       "      <th>18</th>\n",
       "      <td>terreno ubicado en bukara coto club, el cual se compone de 100 lotes unifamiliares en un conjunto cerrado que te ofrece una maravillosa ...</td>\n",
       "    </tr>\n",
       "    <tr>\n",
       "      <th>19</th>\n",
       "      <td>-- rcv151104-lv-27 --    linda casa con area de estacionamiento al frente para dos autos, en la planta baja cuenta con estudio , sala, c...</td>\n",
       "    </tr>\n",
       "    <tr>\n",
       "      <th>20</th>\n",
       "      <td>&lt;p&gt;excelente terreno plano, frente a parque en calle cerrada, con rapidas vias de acceso, muy cerca de plaza cumbres.&lt;/p&gt;</td>\n",
       "    </tr>\n",
       "    <tr>\n",
       "      <th>21</th>\n",
       "      <td>nocnok id: mx15-bk0340. hermosa casa en conjunto privado, sala, comedor, cocina integral con cubierta de granito, 3 recámaras, principal...</td>\n",
       "    </tr>\n",
       "    <tr>\n",
       "      <th>22</th>\n",
       "      <td>&lt;p&gt;comoda casa con recamara en planta baja y amplio patio en fracc. polvorin, consta en p.b. de sala, comedor, cocina con gabinetes infe...</td>\n",
       "    </tr>\n",
       "    <tr>\n",
       "      <th>23</th>\n",
       "      <td>casa en venta en cancun en residencial cumbres casa en residencial cumbres con 3 habitaciones, cada una con baño completo, estudio de tv...</td>\n",
       "    </tr>\n",
       "    <tr>\n",
       "      <th>24</th>\n",
       "      <td>&lt;p&gt;propiedad en un nivel, con espacios amplios e iluminados,bardas perimetrales de 5mtscochera techada para tres autos , &amp;nbsp;&amp;nbsp;bue...</td>\n",
       "    </tr>\n",
       "    <tr>\n",
       "      <th>25</th>\n",
       "      <td>hermosa casa en santa cecilia en apodaca, cerca de centro comerciales y escuelas, la casa tiene cochera techada para un automóvil, sala,...</td>\n",
       "    </tr>\n",
       "    <tr>\n",
       "      <th>26</th>\n",
       "      <td>¡excelente oportunidad!  \\n\\ncasa de un nivel en fraccionamiento misiones de san francisco, cerca de vw y outlet. \\n\\ncuenta con: \\n2 h...</td>\n",
       "    </tr>\n",
       "    <tr>\n",
       "      <th>27</th>\n",
       "      <td>hermosa casa remodelada, con acabados de lujo, calle cerrada, family room, despacho, antecomedor, gym, cava, recamaras con vestidor y ba...</td>\n",
       "    </tr>\n",
       "    <tr>\n",
       "      <th>28</th>\n",
       "      <td>casa en coto 3 recamaras, estudio, sala-comedor, cochera, seguridad 24 horas.</td>\n",
       "    </tr>\n",
       "    <tr>\n",
       "      <th>29</th>\n",
       "      <td>en zona de urbanización progresiva, terreno plano en esquina, de forma regular, totalmente bardeado, con casa campestre y otra para vela...</td>\n",
       "    </tr>\n",
       "  </tbody>\n",
       "</table>\n",
       "</div>"
      ],
      "text/plain": [
       "                                                                                                                                    descripcion\n",
       "0   depto. interior de 80.15m2, consta de sala comedor cocina equipada, área de lavado, baño completo, recamara principal con closet y baño ...\n",
       "1   <p>entre sonora y guerrero, atr&aacute;s del hospital &aacute;ngeles del pedregal, en excelente estado de conservaci&oacute;n, construid...\n",
       "2   descripcion \\nla mejor ubicacion residencial en el oriente de la ciudad urbi versalles, te invito a compartir una nueva forma de vida en...\n",
       "3   casa en privada con caseta de vigilancia casas de dos y tres recamaras, a dies minutos del centro de toluca a un costado del valle de za...\n",
       "4                                       bonito departamento en excelentes condiciones muy buena ubicacion listo para habitar llamenos !!!!!  y \n",
       "5   amplio departamento, estancia de sala y comedor con pared de granito de mármol, dos recamaras con closet, cocina integral, un baño, piso...\n",
       "6   ubicada en esquina, pertenece san lorenzo agencia santiago etla.\\ncuenta con:\\ntres recamaras\\n2 baños completos\\nsala\\ncomedor- cocina\\...\n",
       "7   casa emilia en venta playa del carmenfraccionamiento selvamar, con bicisendas, canchas de tenis con cesped, cenote, solarium con jacuzzi...\n",
       "8   <p>pre-venta de preciosos departamento ecologicos &nbsp;se ejerce con subsidio de 62,000; sala, comedor, cocina con &nbsp;tarja &nbsp;y ...\n",
       "9   terreno de 5.500m2 bardeado, uso de suelo h-200-a, plano de forma irregular colinda al norte con circuito exterior mexiquense con 122m2,...\n",
       "10  <p>mi 2&deg; credito<br />para todos aquellos trabajadores que ya tuvieron su primer credito por el infonavit y terminaron de pagarlo.<b...\n",
       "11  departamento nuevo ,256 m2 de construccion,un departamento por piso,acabados de lujo,elevador directo a tu departamento,elevador de serv...\n",
       "12  <p><strong>casa </strong>en venta en fraccionamiento con campo de golf <strong>zibat&aacute;</strong>, 141.4 m de terreno, 170 m de cons...\n",
       "13  flamante casa habitación en condominio horizontal, desarrollada en 3 niveles. planta baja: estancia, comedor, cocina con desayunador, sa...\n",
       "14                            pre venta de residencia en la toscana con excelente distribución, cuenta con vestidor y baño todas las recamaras.\n",
       "15  <p>casa en dos niveles, 3 recámaras la principal con baño, sala, comedor con pisos laminados, cocina equipada con alacena, cuarto de ser...\n",
       "16  <p>clave: vcln2450 fecha de actualizaci&oacute;n 12/feb/2013.&nbsp;hermosa casa totalmente nueva con los mejores acabados y excelente ca...\n",
       "17  magnifico departamento con excelente distribución, ventanales de piso a techo, balcones y mucha luz natural, ubicado en una de las calle...\n",
       "18  terreno ubicado en bukara coto club, el cual se compone de 100 lotes unifamiliares en un conjunto cerrado que te ofrece una maravillosa ...\n",
       "19  -- rcv151104-lv-27 --    linda casa con area de estacionamiento al frente para dos autos, en la planta baja cuenta con estudio , sala, c...\n",
       "20                    <p>excelente terreno plano, frente a parque en calle cerrada, con rapidas vias de acceso, muy cerca de plaza cumbres.</p>\n",
       "21  nocnok id: mx15-bk0340. hermosa casa en conjunto privado, sala, comedor, cocina integral con cubierta de granito, 3 recámaras, principal...\n",
       "22  <p>comoda casa con recamara en planta baja y amplio patio en fracc. polvorin, consta en p.b. de sala, comedor, cocina con gabinetes infe...\n",
       "23  casa en venta en cancun en residencial cumbres casa en residencial cumbres con 3 habitaciones, cada una con baño completo, estudio de tv...\n",
       "24  <p>propiedad en un nivel, con espacios amplios e iluminados,bardas perimetrales de 5mtscochera techada para tres autos , &nbsp;&nbsp;bue...\n",
       "25  hermosa casa en santa cecilia en apodaca, cerca de centro comerciales y escuelas, la casa tiene cochera techada para un automóvil, sala,...\n",
       "26  ¡excelente oportunidad!  \\n\\ncasa de un nivel en fraccionamiento misiones de san francisco, cerca de vw y outlet. \\n\\ncuenta con: \\n2 h...\n",
       "27  hermosa casa remodelada, con acabados de lujo, calle cerrada, family room, despacho, antecomedor, gym, cava, recamaras con vestidor y ba...\n",
       "28                                                                casa en coto 3 recamaras, estudio, sala-comedor, cochera, seguridad 24 horas.\n",
       "29  en zona de urbanización progresiva, terreno plano en esquina, de forma regular, totalmente bardeado, con casa campestre y otra para vela..."
      ]
     },
     "execution_count": 13,
     "metadata": {},
     "output_type": "execute_result"
    }
   ],
   "source": [
    "# pd.set_option('display.max_colwidth', 250)\n",
    "df[['descripcion']].head(30)"
   ]
  },
  {
   "cell_type": "markdown",
   "metadata": {},
   "source": [
    "(Pasar a issues)\n",
    "- Se podra hacer algun resumen automatico que represente mas facil la informacion? \n",
    "- clustering basado en la descripcion\n",
    "- wordcloud\n"
   ]
  },
  {
   "cell_type": "markdown",
   "metadata": {},
   "source": [
    "# Localizacion\n",
    "## Direccion"
   ]
  },
  {
   "cell_type": "code",
   "execution_count": 14,
   "metadata": {},
   "outputs": [
    {
     "data": {
      "text/plain": [
       "0                    Avenida Division del Norte 2005\n",
       "1                                         AV. MEXICO\n",
       "2                                        Urbi Tonala\n",
       "3                      IGNACIO MANUEL ALTAMIRANO 128\n",
       "4                                    PASEOS DEL SOL \n",
       "5                              Condominio Tlalpan 2B\n",
       "6                                                NaN\n",
       "7                               condominio el trebol\n",
       "8                     BUENAVISTA DEPTOS CON SUBSIDIO\n",
       "9                                        Av. Morelos\n",
       "10                                     MI 2° CREDITO\n",
       "11                                               NaN\n",
       "12                          Pitahayas 2 - 58, Zibata\n",
       "13                  MATIAS ROMERO, COLONIA DEL VALLE\n",
       "14                                               NaN\n",
       "15                                               NaN\n",
       "16    CUMBRES DEL LAGO JURIQUILLA, QUERETARO, MEXICO\n",
       "17                                 Pazaje Santa Cruz\n",
       "18                                           Milenio\n",
       "19                                SENDA CELESTIAL 10\n",
       "20          TERRENO RESIDENCIAL EN VENTA EN CUMBRES \n",
       "21                                               NaN\n",
       "22                                               NaN\n",
       "23                                               NaN\n",
       "24                      Colinas del Cimatario   C721\n",
       "25                                     Lopez Velarde\n",
       "26                         MISIONES DE SAN FRANCISCO\n",
       "27                             PASEO DE LOS LAURELES\n",
       "28                        Coto Santillana I Casa G11\n",
       "29                           camino viejo a Tesistan\n",
       "Name: direccion, dtype: object"
      ]
     },
     "execution_count": 14,
     "metadata": {},
     "output_type": "execute_result"
    }
   ],
   "source": [
    "df['direccion'].head(30)"
   ]
  },
  {
   "cell_type": "code",
   "execution_count": null,
   "metadata": {},
   "outputs": [],
   "source": []
  },
  {
   "cell_type": "code",
   "execution_count": 15,
   "metadata": {},
   "outputs": [],
   "source": [
    "palabras_avenida = ['avenida', 'av']\n",
    "df['es_avenida'] = df['direccion'].fillna('no info').apply(lambda x: any(avenida_indicator in x.lower() for avenida_indicator in palabras_avenida))"
   ]
  },
  {
   "cell_type": "code",
   "execution_count": 16,
   "metadata": {},
   "outputs": [
    {
     "data": {
      "text/html": [
       "<div>\n",
       "<style scoped>\n",
       "    .dataframe tbody tr th:only-of-type {\n",
       "        vertical-align: middle;\n",
       "    }\n",
       "\n",
       "    .dataframe tbody tr th {\n",
       "        vertical-align: top;\n",
       "    }\n",
       "\n",
       "    .dataframe thead th {\n",
       "        text-align: right;\n",
       "    }\n",
       "</style>\n",
       "<table border=\"1\" class=\"dataframe\">\n",
       "  <thead>\n",
       "    <tr style=\"text-align: right;\">\n",
       "      <th></th>\n",
       "      <th>es_avenida</th>\n",
       "      <th>direccion</th>\n",
       "    </tr>\n",
       "  </thead>\n",
       "  <tbody>\n",
       "    <tr>\n",
       "      <th>0</th>\n",
       "      <td>True</td>\n",
       "      <td>Avenida Division del Norte 2005</td>\n",
       "    </tr>\n",
       "    <tr>\n",
       "      <th>1</th>\n",
       "      <td>True</td>\n",
       "      <td>AV. MEXICO</td>\n",
       "    </tr>\n",
       "    <tr>\n",
       "      <th>2</th>\n",
       "      <td>False</td>\n",
       "      <td>Urbi Tonala</td>\n",
       "    </tr>\n",
       "    <tr>\n",
       "      <th>3</th>\n",
       "      <td>False</td>\n",
       "      <td>IGNACIO MANUEL ALTAMIRANO 128</td>\n",
       "    </tr>\n",
       "    <tr>\n",
       "      <th>4</th>\n",
       "      <td>False</td>\n",
       "      <td>PASEOS DEL SOL</td>\n",
       "    </tr>\n",
       "    <tr>\n",
       "      <th>5</th>\n",
       "      <td>False</td>\n",
       "      <td>Condominio Tlalpan 2B</td>\n",
       "    </tr>\n",
       "    <tr>\n",
       "      <th>6</th>\n",
       "      <td>False</td>\n",
       "      <td>NaN</td>\n",
       "    </tr>\n",
       "    <tr>\n",
       "      <th>7</th>\n",
       "      <td>False</td>\n",
       "      <td>condominio el trebol</td>\n",
       "    </tr>\n",
       "    <tr>\n",
       "      <th>8</th>\n",
       "      <td>True</td>\n",
       "      <td>BUENAVISTA DEPTOS CON SUBSIDIO</td>\n",
       "    </tr>\n",
       "    <tr>\n",
       "      <th>9</th>\n",
       "      <td>True</td>\n",
       "      <td>Av. Morelos</td>\n",
       "    </tr>\n",
       "    <tr>\n",
       "      <th>10</th>\n",
       "      <td>False</td>\n",
       "      <td>MI 2° CREDITO</td>\n",
       "    </tr>\n",
       "    <tr>\n",
       "      <th>11</th>\n",
       "      <td>False</td>\n",
       "      <td>NaN</td>\n",
       "    </tr>\n",
       "    <tr>\n",
       "      <th>12</th>\n",
       "      <td>False</td>\n",
       "      <td>Pitahayas 2 - 58, Zibata</td>\n",
       "    </tr>\n",
       "    <tr>\n",
       "      <th>13</th>\n",
       "      <td>False</td>\n",
       "      <td>MATIAS ROMERO, COLONIA DEL VALLE</td>\n",
       "    </tr>\n",
       "    <tr>\n",
       "      <th>14</th>\n",
       "      <td>False</td>\n",
       "      <td>NaN</td>\n",
       "    </tr>\n",
       "    <tr>\n",
       "      <th>15</th>\n",
       "      <td>False</td>\n",
       "      <td>NaN</td>\n",
       "    </tr>\n",
       "    <tr>\n",
       "      <th>16</th>\n",
       "      <td>False</td>\n",
       "      <td>CUMBRES DEL LAGO JURIQUILLA, QUERETARO, MEXICO</td>\n",
       "    </tr>\n",
       "    <tr>\n",
       "      <th>17</th>\n",
       "      <td>False</td>\n",
       "      <td>Pazaje Santa Cruz</td>\n",
       "    </tr>\n",
       "    <tr>\n",
       "      <th>18</th>\n",
       "      <td>False</td>\n",
       "      <td>Milenio</td>\n",
       "    </tr>\n",
       "    <tr>\n",
       "      <th>19</th>\n",
       "      <td>False</td>\n",
       "      <td>SENDA CELESTIAL 10</td>\n",
       "    </tr>\n",
       "    <tr>\n",
       "      <th>20</th>\n",
       "      <td>False</td>\n",
       "      <td>TERRENO RESIDENCIAL EN VENTA EN CUMBRES</td>\n",
       "    </tr>\n",
       "    <tr>\n",
       "      <th>21</th>\n",
       "      <td>False</td>\n",
       "      <td>NaN</td>\n",
       "    </tr>\n",
       "    <tr>\n",
       "      <th>22</th>\n",
       "      <td>False</td>\n",
       "      <td>NaN</td>\n",
       "    </tr>\n",
       "    <tr>\n",
       "      <th>23</th>\n",
       "      <td>False</td>\n",
       "      <td>NaN</td>\n",
       "    </tr>\n",
       "    <tr>\n",
       "      <th>24</th>\n",
       "      <td>False</td>\n",
       "      <td>Colinas del Cimatario   C721</td>\n",
       "    </tr>\n",
       "    <tr>\n",
       "      <th>25</th>\n",
       "      <td>False</td>\n",
       "      <td>Lopez Velarde</td>\n",
       "    </tr>\n",
       "    <tr>\n",
       "      <th>26</th>\n",
       "      <td>False</td>\n",
       "      <td>MISIONES DE SAN FRANCISCO</td>\n",
       "    </tr>\n",
       "    <tr>\n",
       "      <th>27</th>\n",
       "      <td>False</td>\n",
       "      <td>PASEO DE LOS LAURELES</td>\n",
       "    </tr>\n",
       "    <tr>\n",
       "      <th>28</th>\n",
       "      <td>False</td>\n",
       "      <td>Coto Santillana I Casa G11</td>\n",
       "    </tr>\n",
       "    <tr>\n",
       "      <th>29</th>\n",
       "      <td>False</td>\n",
       "      <td>camino viejo a Tesistan</td>\n",
       "    </tr>\n",
       "    <tr>\n",
       "      <th>...</th>\n",
       "      <td>...</td>\n",
       "      <td>...</td>\n",
       "    </tr>\n",
       "    <tr>\n",
       "      <th>239970</th>\n",
       "      <td>False</td>\n",
       "      <td>Paseo de los fambruesos 3150</td>\n",
       "    </tr>\n",
       "    <tr>\n",
       "      <th>239971</th>\n",
       "      <td>False</td>\n",
       "      <td>TOKIO</td>\n",
       "    </tr>\n",
       "    <tr>\n",
       "      <th>239972</th>\n",
       "      <td>False</td>\n",
       "      <td>Albino Garcia 219</td>\n",
       "    </tr>\n",
       "    <tr>\n",
       "      <th>239973</th>\n",
       "      <td>False</td>\n",
       "      <td>Pérez de León  61</td>\n",
       "    </tr>\n",
       "    <tr>\n",
       "      <th>239974</th>\n",
       "      <td>False</td>\n",
       "      <td>NaN</td>\n",
       "    </tr>\n",
       "    <tr>\n",
       "      <th>239975</th>\n",
       "      <td>False</td>\n",
       "      <td>NaN</td>\n",
       "    </tr>\n",
       "    <tr>\n",
       "      <th>239976</th>\n",
       "      <td>False</td>\n",
       "      <td>NaN</td>\n",
       "    </tr>\n",
       "    <tr>\n",
       "      <th>239977</th>\n",
       "      <td>True</td>\n",
       "      <td>AV RANCHO NUEVO</td>\n",
       "    </tr>\n",
       "    <tr>\n",
       "      <th>239978</th>\n",
       "      <td>False</td>\n",
       "      <td>NaN</td>\n",
       "    </tr>\n",
       "    <tr>\n",
       "      <th>239979</th>\n",
       "      <td>False</td>\n",
       "      <td>Rio Parana</td>\n",
       "    </tr>\n",
       "    <tr>\n",
       "      <th>239980</th>\n",
       "      <td>False</td>\n",
       "      <td>NaN</td>\n",
       "    </tr>\n",
       "    <tr>\n",
       "      <th>239981</th>\n",
       "      <td>False</td>\n",
       "      <td>PRIV. VENECIA</td>\n",
       "    </tr>\n",
       "    <tr>\n",
       "      <th>239982</th>\n",
       "      <td>False</td>\n",
       "      <td>NaN</td>\n",
       "    </tr>\n",
       "    <tr>\n",
       "      <th>239983</th>\n",
       "      <td>False</td>\n",
       "      <td>NaN</td>\n",
       "    </tr>\n",
       "    <tr>\n",
       "      <th>239984</th>\n",
       "      <td>False</td>\n",
       "      <td>PROGRESO, MONTERREY</td>\n",
       "    </tr>\n",
       "    <tr>\n",
       "      <th>239985</th>\n",
       "      <td>False</td>\n",
       "      <td>FUENTES DE SATÉLITE, ATIZAPÁN, ESTADO DE MÉXICO</td>\n",
       "    </tr>\n",
       "    <tr>\n",
       "      <th>239986</th>\n",
       "      <td>False</td>\n",
       "      <td>NaN</td>\n",
       "    </tr>\n",
       "    <tr>\n",
       "      <th>239987</th>\n",
       "      <td>False</td>\n",
       "      <td>Primero de mayo 5</td>\n",
       "    </tr>\n",
       "    <tr>\n",
       "      <th>239988</th>\n",
       "      <td>False</td>\n",
       "      <td>SANTA MARIA</td>\n",
       "    </tr>\n",
       "    <tr>\n",
       "      <th>239989</th>\n",
       "      <td>False</td>\n",
       "      <td>Jurica</td>\n",
       "    </tr>\n",
       "    <tr>\n",
       "      <th>239990</th>\n",
       "      <td>False</td>\n",
       "      <td>NaN</td>\n",
       "    </tr>\n",
       "    <tr>\n",
       "      <th>239991</th>\n",
       "      <td>False</td>\n",
       "      <td>Coyuya 200</td>\n",
       "    </tr>\n",
       "    <tr>\n",
       "      <th>239992</th>\n",
       "      <td>False</td>\n",
       "      <td>Cerrada villa Picadilly</td>\n",
       "    </tr>\n",
       "    <tr>\n",
       "      <th>239993</th>\n",
       "      <td>False</td>\n",
       "      <td>Paseo de la Cañada</td>\n",
       "    </tr>\n",
       "    <tr>\n",
       "      <th>239994</th>\n",
       "      <td>False</td>\n",
       "      <td>MANUEL AMAYA,ENTRE SEBASTIAN ALLENDE Y AMADO AGUIRRE,ZAPOPAN,JALISCO</td>\n",
       "    </tr>\n",
       "    <tr>\n",
       "      <th>239995</th>\n",
       "      <td>False</td>\n",
       "      <td>BOSQUES</td>\n",
       "    </tr>\n",
       "    <tr>\n",
       "      <th>239996</th>\n",
       "      <td>True</td>\n",
       "      <td>Filiberto Navas 325</td>\n",
       "    </tr>\n",
       "    <tr>\n",
       "      <th>239997</th>\n",
       "      <td>False</td>\n",
       "      <td>Nicolas San Juan</td>\n",
       "    </tr>\n",
       "    <tr>\n",
       "      <th>239998</th>\n",
       "      <td>True</td>\n",
       "      <td>Javier Rojo Gomez 120</td>\n",
       "    </tr>\n",
       "    <tr>\n",
       "      <th>239999</th>\n",
       "      <td>True</td>\n",
       "      <td>AVE. STIM</td>\n",
       "    </tr>\n",
       "  </tbody>\n",
       "</table>\n",
       "<p>240000 rows × 2 columns</p>\n",
       "</div>"
      ],
      "text/plain": [
       "        es_avenida  \\\n",
       "0             True   \n",
       "1             True   \n",
       "2            False   \n",
       "3            False   \n",
       "4            False   \n",
       "5            False   \n",
       "6            False   \n",
       "7            False   \n",
       "8             True   \n",
       "9             True   \n",
       "10           False   \n",
       "11           False   \n",
       "12           False   \n",
       "13           False   \n",
       "14           False   \n",
       "15           False   \n",
       "16           False   \n",
       "17           False   \n",
       "18           False   \n",
       "19           False   \n",
       "20           False   \n",
       "21           False   \n",
       "22           False   \n",
       "23           False   \n",
       "24           False   \n",
       "25           False   \n",
       "26           False   \n",
       "27           False   \n",
       "28           False   \n",
       "29           False   \n",
       "...            ...   \n",
       "239970       False   \n",
       "239971       False   \n",
       "239972       False   \n",
       "239973       False   \n",
       "239974       False   \n",
       "239975       False   \n",
       "239976       False   \n",
       "239977        True   \n",
       "239978       False   \n",
       "239979       False   \n",
       "239980       False   \n",
       "239981       False   \n",
       "239982       False   \n",
       "239983       False   \n",
       "239984       False   \n",
       "239985       False   \n",
       "239986       False   \n",
       "239987       False   \n",
       "239988       False   \n",
       "239989       False   \n",
       "239990       False   \n",
       "239991       False   \n",
       "239992       False   \n",
       "239993       False   \n",
       "239994       False   \n",
       "239995       False   \n",
       "239996        True   \n",
       "239997       False   \n",
       "239998        True   \n",
       "239999        True   \n",
       "\n",
       "                                                                    direccion  \n",
       "0                                             Avenida Division del Norte 2005  \n",
       "1                                                                  AV. MEXICO  \n",
       "2                                                                 Urbi Tonala  \n",
       "3                                               IGNACIO MANUEL ALTAMIRANO 128  \n",
       "4                                                             PASEOS DEL SOL   \n",
       "5                                                       Condominio Tlalpan 2B  \n",
       "6                                                                         NaN  \n",
       "7                                                        condominio el trebol  \n",
       "8                                              BUENAVISTA DEPTOS CON SUBSIDIO  \n",
       "9                                                                 Av. Morelos  \n",
       "10                                                              MI 2° CREDITO  \n",
       "11                                                                        NaN  \n",
       "12                                                   Pitahayas 2 - 58, Zibata  \n",
       "13                                           MATIAS ROMERO, COLONIA DEL VALLE  \n",
       "14                                                                        NaN  \n",
       "15                                                                        NaN  \n",
       "16                             CUMBRES DEL LAGO JURIQUILLA, QUERETARO, MEXICO  \n",
       "17                                                          Pazaje Santa Cruz  \n",
       "18                                                                    Milenio  \n",
       "19                                                         SENDA CELESTIAL 10  \n",
       "20                                   TERRENO RESIDENCIAL EN VENTA EN CUMBRES   \n",
       "21                                                                        NaN  \n",
       "22                                                                        NaN  \n",
       "23                                                                        NaN  \n",
       "24                                               Colinas del Cimatario   C721  \n",
       "25                                                              Lopez Velarde  \n",
       "26                                                  MISIONES DE SAN FRANCISCO  \n",
       "27                                                      PASEO DE LOS LAURELES  \n",
       "28                                                 Coto Santillana I Casa G11  \n",
       "29                                                    camino viejo a Tesistan  \n",
       "...                                                                       ...  \n",
       "239970                                           Paseo de los fambruesos 3150  \n",
       "239971                                                                  TOKIO  \n",
       "239972                                                      Albino Garcia 219  \n",
       "239973                                                      Pérez de León  61  \n",
       "239974                                                                    NaN  \n",
       "239975                                                                    NaN  \n",
       "239976                                                                    NaN  \n",
       "239977                                                        AV RANCHO NUEVO  \n",
       "239978                                                                    NaN  \n",
       "239979                                                             Rio Parana  \n",
       "239980                                                                    NaN  \n",
       "239981                                                          PRIV. VENECIA  \n",
       "239982                                                                    NaN  \n",
       "239983                                                                    NaN  \n",
       "239984                                                    PROGRESO, MONTERREY  \n",
       "239985                        FUENTES DE SATÉLITE, ATIZAPÁN, ESTADO DE MÉXICO  \n",
       "239986                                                                    NaN  \n",
       "239987                                                      Primero de mayo 5  \n",
       "239988                                                           SANTA MARIA   \n",
       "239989                                                                 Jurica  \n",
       "239990                                                                    NaN  \n",
       "239991                                                             Coyuya 200  \n",
       "239992                                                Cerrada villa Picadilly  \n",
       "239993                                                     Paseo de la Cañada  \n",
       "239994  MANUEL AMAYA,ENTRE SEBASTIAN ALLENDE Y AMADO AGUIRRE,ZAPOPAN,JALISCO   \n",
       "239995                                                                BOSQUES  \n",
       "239996                                                    Filiberto Navas 325  \n",
       "239997                                                       Nicolas San Juan  \n",
       "239998                                                  Javier Rojo Gomez 120  \n",
       "239999                                                              AVE. STIM  \n",
       "\n",
       "[240000 rows x 2 columns]"
      ]
     },
     "execution_count": 16,
     "metadata": {},
     "output_type": "execute_result"
    }
   ],
   "source": [
    "df[['es_avenida','direccion']]"
   ]
  },
  {
   "cell_type": "code",
   "execution_count": 17,
   "metadata": {},
   "outputs": [
    {
     "data": {
      "image/png": "[encoded data removed]",
      "text/plain": [
       "<Figure size 432x288 with 1 Axes>"
      ]
     },
     "metadata": {
      "needs_background": "light"
     },
     "output_type": "display_data"
    }
   ],
   "source": [
    "df['es_avenida'].value_counts().plot(kind='bar');"
   ]
  },
  {
   "cell_type": "code",
   "execution_count": 18,
   "metadata": {},
   "outputs": [
    {
     "data": {
      "text/html": [
       "<div>\n",
       "<style scoped>\n",
       "    .dataframe tbody tr th:only-of-type {\n",
       "        vertical-align: middle;\n",
       "    }\n",
       "\n",
       "    .dataframe tbody tr th {\n",
       "        vertical-align: top;\n",
       "    }\n",
       "\n",
       "    .dataframe thead th {\n",
       "        text-align: right;\n",
       "    }\n",
       "</style>\n",
       "<table border=\"1\" class=\"dataframe\">\n",
       "  <thead>\n",
       "    <tr style=\"text-align: right;\">\n",
       "      <th></th>\n",
       "      <th>es_avenida</th>\n",
       "      <th>precio</th>\n",
       "    </tr>\n",
       "  </thead>\n",
       "  <tbody>\n",
       "    <tr>\n",
       "      <th>es_avenida</th>\n",
       "      <td>1.000000</td>\n",
       "      <td>0.013038</td>\n",
       "    </tr>\n",
       "    <tr>\n",
       "      <th>precio</th>\n",
       "      <td>0.013038</td>\n",
       "      <td>1.000000</td>\n",
       "    </tr>\n",
       "  </tbody>\n",
       "</table>\n",
       "</div>"
      ],
      "text/plain": [
       "            es_avenida    precio\n",
       "es_avenida    1.000000  0.013038\n",
       "precio        0.013038  1.000000"
      ]
     },
     "execution_count": 18,
     "metadata": {},
     "output_type": "execute_result"
    }
   ],
   "source": [
    "df[['es_avenida','precio']].corr()"
   ]
  },
  {
   "cell_type": "markdown",
   "metadata": {},
   "source": [
    "Agregar a issues\n",
    "\n",
    "- Cuando procesemos el precio y saquemos el precio por m2, probablemente valga la pena volver a calcular la corr."
   ]
  },
  {
   "cell_type": "code",
   "execution_count": 19,
   "metadata": {},
   "outputs": [
    {
     "name": "stdout",
     "output_type": "stream",
     "text": [
      "140269\n",
      "0.7503905246939998\n",
      "0.8055875\n"
     ]
    }
   ],
   "source": [
    "print(df['direccion'].nunique())\n",
    "print((df['direccion'].nunique()) / df['direccion'].count())\n",
    "print((df['direccion'].nunique() + df['direccion'].isna().sum()) / df.shape[0])"
   ]
  },
  {
   "cell_type": "markdown",
   "metadata": {},
   "source": [
    "## Ciudad"
   ]
  },
  {
   "cell_type": "code",
   "execution_count": 20,
   "metadata": {},
   "outputs": [
    {
     "data": {
      "text/plain": [
       "875"
      ]
     },
     "execution_count": 20,
     "metadata": {},
     "output_type": "execute_result"
    }
   ],
   "source": [
    "df['ciudad'].nunique()"
   ]
  },
  {
   "cell_type": "code",
   "execution_count": 21,
   "metadata": {},
   "outputs": [
    {
     "data": {
      "text/plain": [
       "<matplotlib.axes._subplots.AxesSubplot at 0x7f3ff8ab9278>"
      ]
     },
     "execution_count": 21,
     "metadata": {},
     "output_type": "execute_result"
    },
    {
     "data": {
      "image/png": "[encoded data removed]",
      "text/plain": [
       "<Figure size 432x288 with 1 Axes>"
      ]
     },
     "metadata": {
      "needs_background": "light"
     },
     "output_type": "display_data"
    }
   ],
   "source": [
    "df['ciudad'].value_counts()[:15].plot(kind='bar')"
   ]
  },
  {
   "cell_type": "markdown",
   "metadata": {},
   "source": [
    "Issues\n",
    "- hacer boxplot de precio por ciudad para las que tienen mas registros y/o para las de precios mas caros\n",
    "- ubicar las ciudades en un mapa y mostrar precio con colores\n",
    "\n",
    "El resto de las columnas de locacion se pueden analizar, pero en principio no creo que aporten mucho."
   ]
  },
  {
   "cell_type": "markdown",
   "metadata": {},
   "source": [
    "# Cualidad\n",
    "## Tipo de propiedad"
   ]
  },
  {
   "cell_type": "code",
   "execution_count": 22,
   "metadata": {},
   "outputs": [
    {
     "name": "stdout",
     "output_type": "stream",
     "text": [
      "24\n",
      "0.9998083333333333\n"
     ]
    }
   ],
   "source": [
    "print(df['tipodepropiedad'].nunique())\n",
    "print(df['tipodepropiedad'].count()/df.shape[0])"
   ]
  },
  {
   "cell_type": "code",
   "execution_count": 23,
   "metadata": {},
   "outputs": [],
   "source": [
    "def named_series_plot(value_counts_result, title='', xlabel='', ylabel='', xticks_rotation=45, save_fig=False, filename='default_filename'):\n",
    "    plt.figure(figsize=(12,6))\n",
    "    bar_names = list(value_counts_result.index)\n",
    "\n",
    "    plt.bar(bar_names, value_counts_result, width=0.5, log=False)\n",
    "\n",
    "    plt.xlabel(xlabel, fontsize=14)\n",
    "    plt.ylabel(ylabel, fontsize=14)\n",
    "    \n",
    "    plt.xticks(rotation=xticks_rotation)\n",
    "\n",
    "    plt.title(title, fontsize=20);\n",
    "    \n",
    "    if save_fig:\n",
    "        filename = filename + '.png'\n",
    "        plt.savefig(filename)"
   ]
  },
  {
   "cell_type": "code",
   "execution_count": 24,
   "metadata": {},
   "outputs": [
    {
     "data": {
      "image/png": "[encoded data removed]",
      "text/plain": [
       "<Figure size 864x432 with 1 Axes>"
      ]
     },
     "metadata": {
      "needs_background": "light"
     },
     "output_type": "display_data"
    }
   ],
   "source": [
    "named_series_plot(df['tipodepropiedad'].value_counts(), xticks_rotation=80)"
   ]
  },
  {
   "cell_type": "code",
   "execution_count": 25,
   "metadata": {},
   "outputs": [
    {
     "data": {
      "text/plain": [
       "Casa                             141717\n",
       "Apartamento                       57341\n",
       "Casa en condominio                19297\n",
       "Terreno                            9945\n",
       "Local Comercial                    3055\n",
       "Oficina comercial                  1741\n",
       "Bodega comercial                   1406\n",
       "Edificio                           1396\n",
       "Terreno comercial                  1326\n",
       "Casa uso de suelo                   708\n",
       "Quinta Vacacional                   395\n",
       "Duplex                              343\n",
       "Villa                               340\n",
       "Inmuebles productivos urbanos       200\n",
       "Rancho                              170\n",
       "Local en centro comercial           165\n",
       "Departamento Compartido             141\n",
       "Otros                               134\n",
       "Nave industrial                      76\n",
       "Terreno industrial                   31\n",
       "Huerta                               20\n",
       "Lote                                  5\n",
       "Hospedaje                             1\n",
       "Garage                                1\n",
       "Name: tipodepropiedad, dtype: int64"
      ]
     },
     "execution_count": 25,
     "metadata": {},
     "output_type": "execute_result"
    }
   ],
   "source": [
    "df['tipodepropiedad'].value_counts()"
   ]
  },
  {
   "cell_type": "code",
   "execution_count": 26,
   "metadata": {},
   "outputs": [
    {
     "data": {
      "text/plain": [
       "['Casa',\n",
       " 'Apartamento',\n",
       " 'Casa en condominio',\n",
       " 'Terreno',\n",
       " 'Local Comercial',\n",
       " 'Oficina comercial',\n",
       " 'Bodega comercial',\n",
       " 'Edificio',\n",
       " 'Terreno comercial',\n",
       " 'Casa uso de suelo',\n",
       " 'Quinta Vacacional',\n",
       " 'Duplex',\n",
       " 'Villa',\n",
       " 'Inmuebles productivos urbanos',\n",
       " 'Rancho',\n",
       " 'Local en centro comercial',\n",
       " 'Departamento Compartido',\n",
       " 'Otros',\n",
       " 'Nave industrial',\n",
       " 'Terreno industrial',\n",
       " 'Huerta',\n",
       " 'Lote',\n",
       " 'Hospedaje',\n",
       " 'Garage']"
      ]
     },
     "execution_count": 26,
     "metadata": {},
     "output_type": "execute_result"
    }
   ],
   "source": [
    "list(df['tipodepropiedad'].value_counts().index)"
   ]
  },
  {
   "cell_type": "code",
   "execution_count": null,
   "metadata": {},
   "outputs": [],
   "source": []
  },
  {
   "cell_type": "code",
   "execution_count": 27,
   "metadata": {},
   "outputs": [
    {
     "data": {
      "image/png": "[encoded data removed]",
      "text/plain": [
       "<Figure size 864x432 with 1 Axes>"
      ]
     },
     "metadata": {
      "needs_background": "light"
     },
     "output_type": "display_data"
    }
   ],
   "source": [
    "named_series_plot(df['tipodepropiedad'].value_counts(), xticks_rotation=80)"
   ]
  },
  {
   "cell_type": "markdown",
   "metadata": {},
   "source": [
    "## Metros: totales y cubiertos"
   ]
  },
  {
   "cell_type": "code",
   "execution_count": 41,
   "metadata": {},
   "outputs": [],
   "source": [
    "def histogram_plot(column, df=df, bins=None, title='', xlabel='', ylabel='', xlabel_fontsize=14, ylabel_fontsize=14, title_fontsize=20, xticks_rotation=0, save_fig=False, filename='default_filename'):\n",
    "    plt.figure(figsize=(12,6))\n",
    "\n",
    "    plt.hist(df[column], density=True)\n",
    "    plt.xlabel(xlabel, fontsize=xlabel_fontsize)\n",
    "    plt.ylabel(ylabel, fontsize=ylabel_fontsize)\n",
    "    \n",
    "    plt.xticks(rotation=xticks_rotation)\n",
    "\n",
    "    plt.title(title, fontsize=title_fontsize);\n",
    "    \n",
    "    if save_fig:\n",
    "        filename = filename + '.png'\n",
    "        plt.savefig(filename)"
   ]
  },
  {
   "cell_type": "code",
   "execution_count": 115,
   "metadata": {},
   "outputs": [],
   "source": [
    "def density_plot(column, df=df, title='', xlabel='', ylabel='', xlabel_fontsize=14, ylabel_fontsize=14, title_fontsize=20, xticks_rotation=0, save_fig=False, filename='default_filename', dropna=True, log=False, bins=None, hist=True, kde=True, rug=False, fit=None, hist_kws=None, kde_kws=None, rug_kws=None, fit_kws=None, color=None, vertical=False, norm_hist=False, axlabel=None, label=None, ax=None):\n",
    "    import seaborn as sns\n",
    "    plt.figure(figsize=(12,6))\n",
    "\n",
    "    if dropna:\n",
    "        data = df[column].dropna()\n",
    "    else:\n",
    "        data = df[column]\n",
    "    \n",
    "    ax = sns.distplot(data, bins, hist, kde, rug, fit, hist_kws, kde_kws, rug_kws, fit_kws, color, vertical, norm_hist, axlabel, label, ax)\n",
    "    \n",
    "    if log:\n",
    "        ax.set_xscale('log')\n",
    "    plt.xlabel(xlabel, fontsize=xlabel_fontsize)\n",
    "    plt.ylabel(ylabel, fontsize=ylabel_fontsize)\n",
    "    \n",
    "    plt.xticks(rotation=xticks_rotation)\n",
    "\n",
    "    plt.title(title, fontsize=title_fontsize);\n",
    "    \n",
    "    if save_fig:\n",
    "        filename = filename + '.png'\n",
    "        plt.savefig(filename)"
   ]
  },
  {
   "cell_type": "code",
   "execution_count": 57,
   "metadata": {},
   "outputs": [
    {
     "data": {
      "image/png": "[encoded data removed]",
      "text/plain": [
       "<Figure size 864x432 with 1 Axes>"
      ]
     },
     "metadata": {
      "needs_background": "light"
     },
     "output_type": "display_data"
    }
   ],
   "source": [
    "density_plot('metrostotales')"
   ]
  },
  {
   "cell_type": "code",
   "execution_count": 58,
   "metadata": {},
   "outputs": [
    {
     "data": {
      "image/png": "[encoded data removed]",
      "text/plain": [
       "<Figure size 864x432 with 1 Axes>"
      ]
     },
     "metadata": {
      "needs_background": "light"
     },
     "output_type": "display_data"
    }
   ],
   "source": [
    "density_plot('metroscubiertos')"
   ]
  },
  {
   "cell_type": "code",
   "execution_count": 59,
   "metadata": {},
   "outputs": [],
   "source": [
    "df['ratio_metros_totales_cubiertos'] = df['metroscubiertos']/df['metrostotales']"
   ]
  },
  {
   "cell_type": "code",
   "execution_count": 64,
   "metadata": {},
   "outputs": [
    {
     "data": {
      "text/plain": [
       "(100838, 25)"
      ]
     },
     "execution_count": 64,
     "metadata": {},
     "output_type": "execute_result"
    }
   ],
   "source": [
    "df.loc[df['ratio_metros_totales_cubiertos'] <= 1].shape"
   ]
  },
  {
   "cell_type": "code",
   "execution_count": 65,
   "metadata": {},
   "outputs": [
    {
     "data": {
      "text/plain": [
       "(240000, 25)"
      ]
     },
     "execution_count": 65,
     "metadata": {},
     "output_type": "execute_result"
    }
   ],
   "source": [
    "df.shape"
   ]
  },
  {
   "cell_type": "code",
   "execution_count": 69,
   "metadata": {},
   "outputs": [
    {
     "data": {
      "image/png": "[encoded data removed]",
      "text/plain": [
       "<Figure size 864x432 with 1 Axes>"
      ]
     },
     "metadata": {
      "needs_background": "light"
     },
     "output_type": "display_data"
    }
   ],
   "source": [
    "density_plot(df=df.loc[df['ratio_metros_totales_cubiertos'] <= 1], column='ratio_metros_totales_cubiertos')"
   ]
  },
  {
   "cell_type": "code",
   "execution_count": 94,
   "metadata": {},
   "outputs": [
    {
     "data": {
      "image/png": "[encoded data removed]",
      "text/plain": [
       "<Figure size 864x432 with 1 Axes>"
      ]
     },
     "metadata": {
      "needs_background": "light"
     },
     "output_type": "display_data"
    }
   ],
   "source": [
    "density_plot(df=df.loc[df['ratio_metros_totales_cubiertos'] <= 1], column='ratio_metros_totales_cubiertos', log=True)"
   ]
  },
  {
   "cell_type": "code",
   "execution_count": 91,
   "metadata": {},
   "outputs": [
    {
     "data": {
      "image/png": "[encoded data removed]",
      "text/plain": [
       "<Figure size 864x432 with 1 Axes>"
      ]
     },
     "metadata": {
      "needs_background": "light"
     },
     "output_type": "display_data"
    }
   ],
   "source": [
    "density_plot(df=df.loc[df['ratio_metros_totales_cubiertos'] > 1], column='ratio_metros_totales_cubiertos')"
   ]
  },
  {
   "cell_type": "code",
   "execution_count": 95,
   "metadata": {},
   "outputs": [
    {
     "data": {
      "image/png": "[encoded data removed]",
      "text/plain": [
       "<Figure size 864x432 with 1 Axes>"
      ]
     },
     "metadata": {
      "needs_background": "light"
     },
     "output_type": "display_data"
    }
   ],
   "source": [
    "density_plot(df=df.loc[df['ratio_metros_totales_cubiertos'] > 1], column='ratio_metros_totales_cubiertos', log=True)"
   ]
  },
  {
   "cell_type": "markdown",
   "metadata": {},
   "source": [
    "## Antiguedad"
   ]
  },
  {
   "cell_type": "code",
   "execution_count": 96,
   "metadata": {},
   "outputs": [
    {
     "data": {
      "text/plain": [
       "78"
      ]
     },
     "execution_count": 96,
     "metadata": {},
     "output_type": "execute_result"
    }
   ],
   "source": [
    "df['antiguedad'].nunique()"
   ]
  },
  {
   "cell_type": "code",
   "execution_count": 119,
   "metadata": {},
   "outputs": [
    {
     "data": {
      "image/png": "[encoded data removed]",
      "text/plain": [
       "<Figure size 864x432 with 1 Axes>"
      ]
     },
     "metadata": {
      "needs_background": "light"
     },
     "output_type": "display_data"
    }
   ],
   "source": [
    "density_plot('antiguedad')"
   ]
  },
  {
   "cell_type": "markdown",
   "metadata": {},
   "source": [
    "## Habitaciones"
   ]
  },
  {
   "cell_type": "code",
   "execution_count": 126,
   "metadata": {},
   "outputs": [
    {
     "data": {
      "text/plain": [
       "3.0     121887\n",
       "2.0      57808\n",
       "4.0      25068\n",
       "1.0       5069\n",
       "5.0       4596\n",
       "6.0       1669\n",
       "7.0        539\n",
       "8.0        398\n",
       "10.0       316\n",
       "9.0        179\n",
       "Name: habitaciones, dtype: int64"
      ]
     },
     "execution_count": 126,
     "metadata": {},
     "output_type": "execute_result"
    }
   ],
   "source": [
    "df['habitaciones'].value_counts()"
   ]
  },
  {
   "cell_type": "code",
   "execution_count": 128,
   "metadata": {},
   "outputs": [
    {
     "data": {
      "image/png": "[encoded data removed]",
      "text/plain": [
       "<Figure size 864x432 with 1 Axes>"
      ]
     },
     "metadata": {
      "needs_background": "light"
     },
     "output_type": "display_data"
    }
   ],
   "source": [
    "named_series_plot(df['habitaciones'].value_counts())"
   ]
  },
  {
   "cell_type": "markdown",
   "metadata": {},
   "source": [
    "## Garages"
   ]
  },
  {
   "cell_type": "code",
   "execution_count": 131,
   "metadata": {},
   "outputs": [
    {
     "data": {
      "text/plain": [
       "2.0    94167\n",
       "1.0    59464\n",
       "0.0    26926\n",
       "3.0    21678\n",
       "Name: garages, dtype: int64"
      ]
     },
     "execution_count": 131,
     "metadata": {},
     "output_type": "execute_result"
    }
   ],
   "source": [
    "df['garages'].value_counts()"
   ]
  },
  {
   "cell_type": "code",
   "execution_count": 132,
   "metadata": {},
   "outputs": [
    {
     "data": {
      "image/png": "[encoded data removed]",
      "text/plain": [
       "<Figure size 864x432 with 1 Axes>"
      ]
     },
     "metadata": {
      "needs_background": "light"
     },
     "output_type": "display_data"
    }
   ],
   "source": [
    "named_series_plot(df['garages'].value_counts())"
   ]
  },
  {
   "cell_type": "markdown",
   "metadata": {},
   "source": [
    "## Banos"
   ]
  },
  {
   "cell_type": "code",
   "execution_count": 120,
   "metadata": {},
   "outputs": [
    {
     "data": {
      "text/plain": [
       "2.0    87683\n",
       "1.0    58173\n",
       "3.0    49365\n",
       "4.0    18558\n",
       "Name: banos, dtype: int64"
      ]
     },
     "execution_count": 120,
     "metadata": {},
     "output_type": "execute_result"
    }
   ],
   "source": [
    "df['banos'].value_counts()"
   ]
  },
  {
   "cell_type": "code",
   "execution_count": 130,
   "metadata": {},
   "outputs": [
    {
     "data": {
      "image/png": "[encoded data removed]",
      "text/plain": [
       "<Figure size 864x432 with 1 Axes>"
      ]
     },
     "metadata": {
      "needs_background": "light"
     },
     "output_type": "display_data"
    }
   ],
   "source": [
    "named_series_plot(df['banos'].value_counts())"
   ]
  },
  {
   "cell_type": "code",
   "execution_count": 31,
   "metadata": {},
   "outputs": [
    {
     "data": {
      "text/plain": [
       "Index(['id', 'titulo', 'descripcion', 'tipodepropiedad', 'direccion', 'ciudad',\n",
       "       'provincia', 'antiguedad', 'habitaciones', 'garages', 'banos',\n",
       "       'metroscubiertos', 'metrostotales', 'idzona', 'lat', 'lng', 'fecha',\n",
       "       'gimnasio', 'usosmultiples', 'piscina', 'escuelascercanas',\n",
       "       'centroscomercialescercanos', 'precio', 'es_avenida'],\n",
       "      dtype='object')"
      ]
     },
     "execution_count": 31,
     "metadata": {},
     "output_type": "execute_result"
    }
   ],
   "source": [
    "df.columns"
   ]
  }
 ],
 "metadata": {
  "kernelspec": {
   "display_name": "Python 3",
   "language": "python",
   "name": "python3"
  },
  "language_info": {
   "codemirror_mode": {
    "name": "ipython",
    "version": 3
   },
   "file_extension": ".py",
   "mimetype": "text/x-python",
   "name": "python",
   "nbconvert_exporter": "python",
   "pygments_lexer": "ipython3",
   "version": "3.5.2"
  }
 },
 "nbformat": 4,
 "nbformat_minor": 4
}
